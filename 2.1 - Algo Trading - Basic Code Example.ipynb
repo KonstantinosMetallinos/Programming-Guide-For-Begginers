{
 "cells": [
  {
   "cell_type": "markdown",
   "metadata": {},
   "source": [
    "# Coding Use Cases - Example 1 - Algorithmic Trading"
   ]
  },
  {
   "cell_type": "markdown",
   "metadata": {},
   "source": [
    "# Imports "
   ]
  },
  {
   "cell_type": "code",
   "execution_count": 1,
   "metadata": {
    "collapsed": true
   },
   "outputs": [],
   "source": [
    "from __future__ import division\n",
    "\n",
    "import pandas as pd\n",
    "import matplotlib.pyplot as plt"
   ]
  },
  {
   "cell_type": "markdown",
   "metadata": {},
   "source": [
    "# Defining some Variables that we will be using"
   ]
  },
  {
   "cell_type": "code",
   "execution_count": 2,
   "metadata": {
    "collapsed": true
   },
   "outputs": [],
   "source": [
    "comma = \",\"\n",
    "filename='GOOG_09_Dec_2013-2018.csv'\n",
    "path='' # Blank := local file\n",
    "file_location=path+filename"
   ]
  },
  {
   "cell_type": "markdown",
   "metadata": {},
   "source": [
    "# Reading and manipulating our data"
   ]
  },
  {
   "cell_type": "code",
   "execution_count": 3,
   "metadata": {
    "collapsed": false
   },
   "outputs": [],
   "source": [
    "all_data = pd.read_csv(file_location)\n",
    "all_data_of_interest = pd.concat([all_data['Date'], all_data['Close']], axis=1, keys=['Date', 'Price'])\n",
    "\n",
    "earliest_year = int(all_data_of_interest['Date'][0].split(\"-\")[0])\n",
    "latest_year = int(all_data_of_interest['Date'][all_data_of_interest.shape[0]-1].split(\"-\")[0])\n",
    "\n",
    "years = range(earliest_year,latest_year+1)\n",
    "data_per_year = dict.fromkeys(years,pd.DataFrame())\n",
    "\n",
    "for row_number in range(all_data_of_interest.shape[0]):\n",
    "    year=int(all_data_of_interest[\"Date\"][row_number].split(\"-\")[0])\n",
    "    data_per_year[year] = data_per_year[year].append(all_data_of_interest.iloc[row_number], ignore_index=True)"
   ]
  },
  {
   "cell_type": "markdown",
   "metadata": {},
   "source": [
    "# Decide When To Inest and Computing Profit"
   ]
  },
  {
   "cell_type": "code",
   "execution_count": 4,
   "metadata": {
    "collapsed": true
   },
   "outputs": [
    {
     "name": "stdout",
     "output_type": "stream",
     "text": [
      "On 2013-12-09 we buy at 535.586548. Profit: -535.586548\n",
      "On 2013-12-23 we sell at 553.947083. Profit: 18.360535\n",
      "On 2014-01-02 we buy at 552.963501. Profit: -534.602966\n",
      "On 2014-01-31 we sell at 586.669312. Profit: 52.066346\n",
      "On 2014-04-11 we buy at 527.698425. Profit: -475.632079\n",
      "On 2014-07-18 we sell at 591.825806. Profit: 116.193727\n",
      "On 2014-10-13 we buy at 530.294128. Profit: -414.100401\n",
      "On 2014-12-31 we sell at 523.521423. Profit: 109.421022\n",
      "On 2015-01-02 we buy at 521.937744. Profit: -412.516722\n",
      "On 2015-10-23 we sell at 702.0. Profit: 289.483278\n",
      "On 2016-01-04 we buy at 741.840027. Profit: -452.356749\n",
      "On 2016-08-05 we sell at 782.219971. Profit: 329.863222\n",
      "On 2017-01-03 we buy at 786.140015. Profit: -456.276793\n",
      "On 2017-10-27 we sell at 1019.27002. Profit: 562.993227\n",
      "On 2018-01-02 we buy at 1065.0. Profit: -502.006773\n",
      "On 2018-07-13 we sell at 1188.819946. Profit: 686.813173\n",
      "On 2018-10-24 we buy at 1050.709961. Profit: -363.896788\n",
      "On 2018-12-07 we sell at 1036.579956. Profit: 672.683168\n",
      "\n",
      "\n",
      "Profit made per 535.586548 invested: 672.683168\n",
      "If we invested 535.586548 on 2013-12-09 today we would have 1208.269716\n",
      "Percentage profit made: 125.597472624%\n"
     ]
    }
   ],
   "source": [
    "initial_entry_position = 0\n",
    "profit = 0\n",
    "markerSize = 8\n",
    "all_data_of_interest.plot(x='Date', y='Price', style='-')    \n",
    "plt.title(\"Stock Price between {0} - {1}\".format(earliest_year, latest_year))\n",
    "plottingPositionCouter = 0\n",
    "\n",
    "for yearOfInterest in years: \n",
    "    position = \"None\"\n",
    "    average_price = data_per_year[yearOfInterest][\"Price\"].mean()\n",
    "    stdev_price = data_per_year[yearOfInterest][\"Price\"].std()\n",
    "    buy_at = average_price-1*stdev_price\n",
    "    sell_at = average_price+1*stdev_price\n",
    "\n",
    "    for row in range(data_per_year[yearOfInterest].shape[0]):\n",
    "        plottingPositionCouter = plottingPositionCouter + 1\n",
    "        todays_date = data_per_year[yearOfInterest][\"Date\"][row]\n",
    "        todays_price = data_per_year[yearOfInterest][\"Price\"][row]\n",
    "        if(position==\"None\"):\n",
    "            if(initial_entry_position==0):\n",
    "                initial_entry_position = todays_price\n",
    "            if(todays_price<sell_at):\n",
    "                position=\"Buy\"\n",
    "                profit=profit-todays_price\n",
    "                print(\"On {2} we buy at {0}. Profit: {1}\".format(todays_price,profit,todays_date))\n",
    "                plt.plot(plottingPositionCouter, todays_price, marker='o', markersize=markerSize, color=\"green\")\n",
    "            else:\n",
    "                position=\"Sell\"\n",
    "                profit=profit+todays_price\n",
    "                print(\"On {2} we sell at {0}. Profit: {1}\".format(todays_price,profit,todays_date))\n",
    "                plt.plot(plottingPositionCouter, todays_price, marker='o', markersize=markerSize, color=\"red\")\n",
    "        elif(position==\"Buy\"):\n",
    "            if(todays_price>=sell_at):\n",
    "                position=\"Sell\"\n",
    "                profit=profit+todays_price\n",
    "                print(\"On {2} we sell at {0}. Profit: {1}\".format(todays_price,profit,todays_date))\n",
    "                plt.plot(plottingPositionCouter, todays_price, marker='o', markersize=markerSize, color=\"red\")\n",
    "        elif(position==\"Sell\"):\n",
    "            if(todays_price<=buy_at):\n",
    "                position=\"Buy\"\n",
    "                profit=profit-todays_price\n",
    "                print(\"On {2} we buy at {0}. Profit: {1}\".format(todays_price,profit,todays_date))\n",
    "                plt.plot(plottingPositionCouter, todays_price, marker='o', markersize=markerSize, color=\"green\")\n",
    "\n",
    "    if(position==\"Buy\"):\n",
    "        position=\"None\"\n",
    "        profit=profit+todays_price\n",
    "        position=\"None\"\n",
    "        print(\"On {2} we sell at {0}. Profit: {1}\".format(todays_price,profit,todays_date))\n",
    "        plt.plot(plottingPositionCouter, todays_price, marker='o', markersize=markerSize, color=\"red\")\n",
    "\n",
    "print(\"\")\n",
    "print(\"\")\n",
    "print(\"Profit made per {0} invested: {1}\".format(initial_entry_position,profit))\n",
    "print(\"If we invested {0} on {1} today we would have {2}\".format(initial_entry_position,\n",
    "        all_data_of_interest['Date'][0],initial_entry_position+profit))\n",
    "print(\"Percentage profit made: {0}%\".format((profit*100)/initial_entry_position))\n",
    "\n",
    "plt.show()"
   ]
  },
  {
   "cell_type": "markdown",
   "metadata": {},
   "source": [
    " "
   ]
  },
  {
   "cell_type": "markdown",
   "metadata": {},
   "source": [
    " "
   ]
  }
 ],
 "metadata": {
  "kernelspec": {
   "display_name": "Python 2",
   "language": "python",
   "name": "python2"
  },
  "language_info": {
   "codemirror_mode": {
    "name": "ipython",
    "version": 2
   },
   "file_extension": ".py",
   "mimetype": "text/x-python",
   "name": "python",
   "nbconvert_exporter": "python",
   "pygments_lexer": "ipython2",
   "version": "2.7.13"
  }
 },
 "nbformat": 4,
 "nbformat_minor": 2
}
