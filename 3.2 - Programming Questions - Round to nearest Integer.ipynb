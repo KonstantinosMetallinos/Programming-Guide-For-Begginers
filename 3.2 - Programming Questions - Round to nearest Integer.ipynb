{
 "cells": [
  {
   "cell_type": "markdown",
   "metadata": {},
   "source": [
    "# 6 - Rounding to nearest Integer"
   ]
  },
  {
   "cell_type": "markdown",
   "metadata": {},
   "source": [
    "## Question - Write a piece of code that given a variable x prints the nearest integer\n",
    "    Hint:\n",
    "    x = 1.1 -> round(x) = 1.0\n",
    "    x = 1.4 -> round(x) = 1.0\n",
    "    x = 1.5 -> round(x) = 2.0\n",
    "    x = 1.9 -> round(x) = 2.0"
   ]
  },
  {
   "cell_type": "code",
   "execution_count": null,
   "metadata": {},
   "outputs": [],
   "source": [
    "X = 7.4\n",
    "# Write your code here. \n"
   ]
  }
 ],
 "metadata": {
  "kernelspec": {
   "display_name": "Python 3",
   "language": "python",
   "name": "python3"
  },
  "language_info": {
   "codemirror_mode": {
    "name": "ipython",
    "version": 3
   },
   "file_extension": ".py",
   "mimetype": "text/x-python",
   "name": "python",
   "nbconvert_exporter": "python",
   "pygments_lexer": "ipython3",
   "version": "3.7.1"
  }
 },
 "nbformat": 4,
 "nbformat_minor": 2
}
