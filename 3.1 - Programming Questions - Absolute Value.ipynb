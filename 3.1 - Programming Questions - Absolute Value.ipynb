{
 "cells": [
  {
   "cell_type": "markdown",
   "metadata": {},
   "source": [
    "# 3 - Absolute Value\n",
    "##### https://en.wikipedia.org/wiki/Absolute_value "
   ]
  },
  {
   "cell_type": "markdown",
   "metadata": {},
   "source": [
    "## Question - Write a piece of code that given a variable x prints the absolute value (|X|)\n",
    "    Hint:\n",
    "    |X| = X when X is greater then 0\n",
    "    |X| = 0 when X is 0\n",
    "    |X| = -X when X is less then 0"
   ]
  },
  {
   "cell_type": "code",
   "execution_count": null,
   "metadata": {},
   "outputs": [],
   "source": [
    "X = 7\n",
    "# Test your code by changing the value of X to different values and see if your code works as expected. \n",
    "# Try at least 1 positive number, 1 negative number and zero.\n",
    "# Write your code here. \n"
   ]
  }
 ],
 "metadata": {
  "kernelspec": {
   "display_name": "Python 3",
   "language": "python",
   "name": "python3"
  },
  "language_info": {
   "codemirror_mode": {
    "name": "ipython",
    "version": 3
   },
   "file_extension": ".py",
   "mimetype": "text/x-python",
   "name": "python",
   "nbconvert_exporter": "python",
   "pygments_lexer": "ipython3",
   "version": "3.7.1"
  }
 },
 "nbformat": 4,
 "nbformat_minor": 2
}
