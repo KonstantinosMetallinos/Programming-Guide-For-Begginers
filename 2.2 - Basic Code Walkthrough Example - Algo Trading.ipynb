{
 "cells": [
  {
   "cell_type": "markdown",
   "metadata": {},
   "source": [
    "# Coding Use Cases - Example 1 - Algorithmic Trading"
   ]
  },
  {
   "cell_type": "markdown",
   "metadata": {},
   "source": [
    "# Imports "
   ]
  },
  {
   "cell_type": "code",
   "execution_count": 1,
   "metadata": {
    "collapsed": true
   },
   "outputs": [],
   "source": [
    "from __future__ import division\n",
    "\n",
    "import pandas as pd\n",
    "import matplotlib.pyplot as plt"
   ]
  },
  {
   "cell_type": "markdown",
   "metadata": {},
   "source": [
    "# Defining some Variables that we will be using"
   ]
  },
  {
   "cell_type": "code",
   "execution_count": 2,
   "metadata": {
    "collapsed": true
   },
   "outputs": [],
   "source": [
    "comma = \",\"\n",
    "filename='GOOG_09_Dec_2013-2018.csv'\n",
    "path='' # Blank := local file\n",
    "file_location=path+filename"
   ]
  },
  {
   "cell_type": "markdown",
   "metadata": {},
   "source": [
    "# Reading our data"
   ]
  },
  {
   "cell_type": "code",
   "execution_count": 3,
   "metadata": {
    "collapsed": false
   },
   "outputs": [],
   "source": [
    "all_data = pd.read_csv(file_location)"
   ]
  },
  {
   "cell_type": "code",
   "execution_count": 4,
   "metadata": {
    "collapsed": false,
    "scrolled": true
   },
   "outputs": [
    {
     "name": "stdout",
     "output_type": "stream",
     "text": [
      "            Date         Open         High          Low        Close  \\\n",
      "0     2013-12-09   532.034607   537.658081   530.559204   535.586548   \n",
      "1     2013-12-10   534.597961   542.625732   534.349548   538.825439   \n",
      "2     2013-12-11   540.186584   542.133911   534.111145   535.164246   \n",
      "3     2013-12-12   536.296875   537.971008   531.046082   531.522949   \n",
      "4     2013-12-13   534.225403   534.667480   525.526978   526.967590   \n",
      "5     2013-12-16   528.562195   533.872681   527.573669   533.023193   \n",
      "6     2013-12-17   532.943726   536.888062   530.738037   531.473267   \n",
      "7     2013-12-18   532.461853   538.969543   526.098267   538.870178   \n",
      "8     2013-12-19   536.893005   542.466797   536.053467   539.600403   \n",
      "9     2013-12-20   540.633728   547.027100   540.484680   546.753906   \n",
      "10    2013-12-23   550.340576   554.294861   548.989380   553.947083   \n",
      "11    2013-12-24   553.882507   554.016663   550.469727   552.327637   \n",
      "12    2013-12-26   553.405640   555.884521   550.762817   555.119507   \n",
      "13    2013-12-27   556.381287   556.520386   552.874084   555.586426   \n",
      "14    2013-12-30   556.550171   556.629639   550.926758   551.145325   \n",
      "15    2013-12-31   552.526367   556.878052   549.555664   556.734009   \n",
      "16    2014-01-02   554.125916   555.263550   550.549194   552.963501   \n",
      "17    2014-01-03   553.897461   554.856201   548.894958   548.929749   \n",
      "18    2014-01-06   552.908875   555.814941   549.645081   555.049927   \n",
      "19    2014-01-07   558.865112   566.162659   556.957520   565.750366   \n",
      "20    2014-01-08   569.297241   569.953003   562.983337   566.927673   \n",
      "21    2014-01-09   568.025513   568.413025   559.143311   561.468201   \n",
      "22    2014-01-10   565.859619   565.859619   557.499023   561.438354   \n",
      "23    2014-01-13   559.595398   569.749329   554.975403   557.861633   \n",
      "24    2014-01-14   565.298279   571.781128   560.400146   570.986267   \n",
      "25    2014-01-15   572.769714   573.768188   568.199402   570.598816   \n",
      "26    2014-01-16   570.837280   575.223694   570.290833   574.374268   \n",
      "27    2014-01-17   574.687195   576.565002   568.403076   571.547607   \n",
      "28    2014-01-21   576.714050   578.239136   571.930176   578.090088   \n",
      "29    2014-01-22   579.535706   580.171570   575.685730   578.745789   \n",
      "...          ...          ...          ...          ...          ...   \n",
      "1229  2018-10-25  1071.790039  1110.979980  1069.550049  1095.569946   \n",
      "1230  2018-10-26  1037.030029  1106.530029  1034.089966  1071.469971   \n",
      "1231  2018-10-29  1082.469971  1097.040039   995.830017  1020.080017   \n",
      "1232  2018-10-30  1008.460022  1037.489990  1000.750000  1036.209961   \n",
      "1233  2018-10-31  1059.810059  1091.939941  1057.000000  1076.770020   \n",
      "1234  2018-11-01  1075.800049  1083.974976  1062.459961  1070.000000   \n",
      "1235  2018-11-02  1073.729980  1082.974976  1054.609985  1057.790039   \n",
      "1236  2018-11-05  1055.000000  1058.469971  1021.239990  1040.089966   \n",
      "1237  2018-11-06  1039.479980  1064.344971  1038.069946  1055.810059   \n",
      "1238  2018-11-07  1069.000000  1095.459961  1065.900024  1093.390015   \n",
      "1239  2018-11-08  1091.380005  1093.270020  1072.204956  1082.400024   \n",
      "1240  2018-11-09  1073.989990  1075.560059  1053.109985  1066.150024   \n",
      "1241  2018-11-12  1061.390015  1062.119995  1031.000000  1038.630005   \n",
      "1242  2018-11-13  1043.290039  1056.604980  1031.150024  1036.050049   \n",
      "1243  2018-11-14  1050.000000  1054.563965  1031.000000  1043.660034   \n",
      "1244  2018-11-15  1044.709961  1071.849976  1031.780029  1064.709961   \n",
      "1245  2018-11-16  1059.410034  1067.000000  1048.979980  1061.489990   \n",
      "1246  2018-11-19  1057.199951  1060.790039  1016.260010  1020.000000   \n",
      "1247  2018-11-20  1000.000000  1031.739990   996.020020  1025.760010   \n",
      "1248  2018-11-21  1036.760010  1048.560059  1033.469971  1037.609985   \n",
      "1249  2018-11-23  1030.000000  1037.589966  1022.398987  1023.880005   \n",
      "1250  2018-11-26  1038.349976  1049.310059  1033.910034  1048.619995   \n",
      "1251  2018-11-27  1041.000000  1057.579956  1038.489990  1044.410034   \n",
      "1252  2018-11-28  1048.760010  1086.839966  1035.760010  1086.229980   \n",
      "1253  2018-11-29  1076.079956  1094.244995  1076.000000  1088.300049   \n",
      "1254  2018-11-30  1089.069946  1095.569946  1077.880005  1094.430054   \n",
      "1255  2018-12-03  1123.140015  1124.650024  1103.665039  1106.430054   \n",
      "1256  2018-12-04  1103.119995  1104.420044  1049.979980  1050.819946   \n",
      "1257  2018-12-06  1034.260010  1071.199951  1030.770020  1068.729980   \n",
      "1258  2018-12-07  1060.010010  1075.260010  1028.500000  1036.579956   \n",
      "\n",
      "        Adj Close   Volume  \n",
      "0      535.586548  2984400  \n",
      "1      538.825439  3731800  \n",
      "2      535.164246  3445800  \n",
      "3      531.522949  3213600  \n",
      "4      526.967590  4352800  \n",
      "5      533.023193  3224800  \n",
      "6      531.473267  3091300  \n",
      "7      538.870178  4449300  \n",
      "8      539.600403  3353000  \n",
      "9      546.753906  6565600  \n",
      "10     553.947083  3465500  \n",
      "11     552.327637  1477800  \n",
      "12     555.119507  2692900  \n",
      "13     555.586426  3159800  \n",
      "14     551.145325  2488100  \n",
      "15     556.734009  2733400  \n",
      "16     552.963501  3666400  \n",
      "17     548.929749  3355000  \n",
      "18     555.049927  3561600  \n",
      "19     565.750366  5138400  \n",
      "20     566.927673  4514100  \n",
      "21     561.468201  4196000  \n",
      "22     561.438354  4314700  \n",
      "23     557.861633  4869100  \n",
      "24     570.986267  4997400  \n",
      "25     570.598816  3925700  \n",
      "26     574.374268  3389600  \n",
      "27     571.547607  5437700  \n",
      "28     578.090088  3985400  \n",
      "29     578.745789  3163200  \n",
      "...           ...      ...  \n",
      "1229  1095.569946  2545800  \n",
      "1230  1071.469971  4187600  \n",
      "1231  1020.080017  3880700  \n",
      "1232  1036.209961  3212700  \n",
      "1233  1076.770020  2529800  \n",
      "1234  1070.000000  1482000  \n",
      "1235  1057.790039  1839000  \n",
      "1236  1040.089966  2441400  \n",
      "1237  1055.810059  1233300  \n",
      "1238  1093.390015  2058400  \n",
      "1239  1082.400024  1488200  \n",
      "1240  1066.150024  1343200  \n",
      "1241  1038.630005  1471800  \n",
      "1242  1036.050049  1513700  \n",
      "1243  1043.660034  1565900  \n",
      "1244  1064.709961  1836100  \n",
      "1245  1061.489990  1658100  \n",
      "1246  1020.000000  1858600  \n",
      "1247  1025.760010  2449100  \n",
      "1248  1037.609985  1534300  \n",
      "1249  1023.880005   691500  \n",
      "1250  1048.619995  1850400  \n",
      "1251  1044.410034  1803200  \n",
      "1252  1086.229980  2475400  \n",
      "1253  1088.300049  1468900  \n",
      "1254  1094.430054  2580200  \n",
      "1255  1106.430054  1991200  \n",
      "1256  1050.819946  2345200  \n",
      "1257  1068.729980  2769200  \n",
      "1258  1036.579956  2100500  \n",
      "\n",
      "[1259 rows x 7 columns]\n"
     ]
    }
   ],
   "source": [
    "print(all_data)"
   ]
  },
  {
   "cell_type": "code",
   "execution_count": 5,
   "metadata": {
    "collapsed": false,
    "scrolled": true
   },
   "outputs": [
    {
     "name": "stdout",
     "output_type": "stream",
     "text": [
      "            Date        Price\n",
      "0     2013-12-09   535.586548\n",
      "1     2013-12-10   538.825439\n",
      "2     2013-12-11   535.164246\n",
      "3     2013-12-12   531.522949\n",
      "4     2013-12-13   526.967590\n",
      "5     2013-12-16   533.023193\n",
      "6     2013-12-17   531.473267\n",
      "7     2013-12-18   538.870178\n",
      "8     2013-12-19   539.600403\n",
      "9     2013-12-20   546.753906\n",
      "10    2013-12-23   553.947083\n",
      "11    2013-12-24   552.327637\n",
      "12    2013-12-26   555.119507\n",
      "13    2013-12-27   555.586426\n",
      "14    2013-12-30   551.145325\n",
      "15    2013-12-31   556.734009\n",
      "16    2014-01-02   552.963501\n",
      "17    2014-01-03   548.929749\n",
      "18    2014-01-06   555.049927\n",
      "19    2014-01-07   565.750366\n",
      "20    2014-01-08   566.927673\n",
      "21    2014-01-09   561.468201\n",
      "22    2014-01-10   561.438354\n",
      "23    2014-01-13   557.861633\n",
      "24    2014-01-14   570.986267\n",
      "25    2014-01-15   570.598816\n",
      "26    2014-01-16   574.374268\n",
      "27    2014-01-17   571.547607\n",
      "28    2014-01-21   578.090088\n",
      "29    2014-01-22   578.745789\n",
      "...          ...          ...\n",
      "1229  2018-10-25  1095.569946\n",
      "1230  2018-10-26  1071.469971\n",
      "1231  2018-10-29  1020.080017\n",
      "1232  2018-10-30  1036.209961\n",
      "1233  2018-10-31  1076.770020\n",
      "1234  2018-11-01  1070.000000\n",
      "1235  2018-11-02  1057.790039\n",
      "1236  2018-11-05  1040.089966\n",
      "1237  2018-11-06  1055.810059\n",
      "1238  2018-11-07  1093.390015\n",
      "1239  2018-11-08  1082.400024\n",
      "1240  2018-11-09  1066.150024\n",
      "1241  2018-11-12  1038.630005\n",
      "1242  2018-11-13  1036.050049\n",
      "1243  2018-11-14  1043.660034\n",
      "1244  2018-11-15  1064.709961\n",
      "1245  2018-11-16  1061.489990\n",
      "1246  2018-11-19  1020.000000\n",
      "1247  2018-11-20  1025.760010\n",
      "1248  2018-11-21  1037.609985\n",
      "1249  2018-11-23  1023.880005\n",
      "1250  2018-11-26  1048.619995\n",
      "1251  2018-11-27  1044.410034\n",
      "1252  2018-11-28  1086.229980\n",
      "1253  2018-11-29  1088.300049\n",
      "1254  2018-11-30  1094.430054\n",
      "1255  2018-12-03  1106.430054\n",
      "1256  2018-12-04  1050.819946\n",
      "1257  2018-12-06  1068.729980\n",
      "1258  2018-12-07  1036.579956\n",
      "\n",
      "[1259 rows x 2 columns]\n"
     ]
    }
   ],
   "source": [
    "all_data_of_interest = pd.concat([all_data['Date'], all_data['Close']], axis=1, keys=['Date', 'Price'])\n",
    "\n",
    "print(all_data_of_interest)"
   ]
  },
  {
   "cell_type": "markdown",
   "metadata": {},
   "source": [
    "# Lets break it down to Years"
   ]
  },
  {
   "cell_type": "markdown",
   "metadata": {},
   "source": [
    "#### First we will need to get a list with all the years we have"
   ]
  },
  {
   "cell_type": "code",
   "execution_count": 6,
   "metadata": {
    "collapsed": false
   },
   "outputs": [
    {
     "name": "stdout",
     "output_type": "stream",
     "text": [
      "('Our Data has dimentions of: ', (1259, 2))\n",
      "('Number of rows are : ', 1259)\n",
      "('Since rows start counting from 0 we need to subract 1: ', 1258)\n"
     ]
    }
   ],
   "source": [
    "print(\"Our Data has dimentions of: \",all_data_of_interest.shape)\n",
    "# Potentially ask questions and make them guess \n",
    "print(\"Number of rows are : \",all_data_of_interest.shape[0])\n",
    "print(\"Since rows start counting from 0 we need to subract 1: \",all_data_of_interest.shape[0]-1)\n"
   ]
  },
  {
   "cell_type": "code",
   "execution_count": 7,
   "metadata": {
    "collapsed": false
   },
   "outputs": [
    {
     "name": "stdout",
     "output_type": "stream",
     "text": [
      "2013-12-09\n",
      "2018-12-07\n"
     ]
    }
   ],
   "source": [
    "earliest_date = all_data_of_interest['Date'][0]\n",
    "latest_date = all_data_of_interest['Date'][all_data_of_interest.shape[0]-1]\n",
    "\n",
    "print(earliest_date)\n",
    "print(latest_date)"
   ]
  },
  {
   "cell_type": "code",
   "execution_count": 8,
   "metadata": {
    "collapsed": false
   },
   "outputs": [
    {
     "name": "stdout",
     "output_type": "stream",
     "text": [
      "['2013', '12', '09']\n",
      "2013\n",
      "2013\n",
      "2018\n"
     ]
    }
   ],
   "source": [
    "print(earliest_date.split(\"-\"))\n",
    "print(earliest_date.split(\"-\")[0])\n",
    "\n",
    "earliest_year = earliest_date.split(\"-\")[0]\n",
    "latest_year = latest_date.split(\"-\")[0]\n",
    "\n",
    "print(earliest_year)\n",
    "print(latest_year)"
   ]
  },
  {
   "cell_type": "code",
   "execution_count": 9,
   "metadata": {
    "collapsed": false
   },
   "outputs": [
    {
     "name": "stdout",
     "output_type": "stream",
     "text": [
      "<type 'str'>\n",
      "<type 'int'>\n"
     ]
    }
   ],
   "source": [
    "print(type(earliest_year))\n",
    "\n",
    "earliest_year = int(earliest_year)\n",
    "latest_year = int(latest_year)\n",
    "\n",
    "print(type(earliest_year))"
   ]
  },
  {
   "cell_type": "code",
   "execution_count": 10,
   "metadata": {
    "collapsed": false
   },
   "outputs": [
    {
     "name": "stdout",
     "output_type": "stream",
     "text": [
      "[2013, 2014, 2015, 2016, 2017]\n",
      "[2013, 2014, 2015, 2016, 2017, 2018]\n"
     ]
    }
   ],
   "source": [
    "print(range(earliest_year,latest_year))\n",
    "print(range(earliest_year,latest_year+1))"
   ]
  },
  {
   "cell_type": "code",
   "execution_count": 11,
   "metadata": {
    "collapsed": false
   },
   "outputs": [
    {
     "name": "stdout",
     "output_type": "stream",
     "text": [
      "[2013, 2014, 2015, 2016, 2017, 2018]\n"
     ]
    }
   ],
   "source": [
    "years = range(earliest_year,latest_year+1)\n",
    "\n",
    "print(years)"
   ]
  },
  {
   "cell_type": "markdown",
   "metadata": {},
   "source": [
    "# Data Seperation per year"
   ]
  },
  {
   "cell_type": "code",
   "execution_count": 12,
   "metadata": {
    "collapsed": false
   },
   "outputs": [
    {
     "name": "stdout",
     "output_type": "stream",
     "text": [
      "<type 'dict'>\n",
      "{2016: Empty DataFrame\n",
      "Columns: []\n",
      "Index: [], 2017: Empty DataFrame\n",
      "Columns: []\n",
      "Index: [], 2018: Empty DataFrame\n",
      "Columns: []\n",
      "Index: [], 2013: Empty DataFrame\n",
      "Columns: []\n",
      "Index: [], 2014: Empty DataFrame\n",
      "Columns: []\n",
      "Index: [], 2015: Empty DataFrame\n",
      "Columns: []\n",
      "Index: []}\n"
     ]
    }
   ],
   "source": [
    "data_per_year = dict.fromkeys(years,pd.DataFrame())\n",
    "\n",
    "print(type(data_per_year))\n",
    "print(data_per_year)"
   ]
  },
  {
   "cell_type": "markdown",
   "metadata": {
    "collapsed": true
   },
   "source": [
    " "
   ]
  },
  {
   "cell_type": "code",
   "execution_count": 13,
   "metadata": {
    "collapsed": false,
    "scrolled": false
   },
   "outputs": [],
   "source": [
    "for row_number in range(all_data_of_interest.shape[0]):\n",
    "    year=int(all_data_of_interest[\"Date\"][row_number].split(\"-\")[0])\n",
    "    data_per_year[year] = data_per_year[year].append(all_data_of_interest.iloc[row_number], ignore_index=True)"
   ]
  },
  {
   "cell_type": "markdown",
   "metadata": {},
   "source": [
    "# Plot the data Year-by-Year and decide when to buy and when to sell"
   ]
  },
  {
   "cell_type": "code",
   "execution_count": 14,
   "metadata": {
    "collapsed": false,
    "scrolled": true
   },
   "outputs": [],
   "source": [
    "for year in data_per_year:\n",
    "    average_price = data_per_year[year][\"Price\"].mean()\n",
    "    stdev_price = data_per_year[year][\"Price\"].std()\n",
    "    buy_at = average_price-1*stdev_price\n",
    "    sell_at = average_price+1*stdev_price\n",
    "    \n",
    "    #Plotting stuff\n",
    "    data_per_year[year].plot(x='Date', y='Price', style='-')    \n",
    "    plt.axhline(average_price, color='k', linestyle='--')\n",
    "    plt.axhline(sell_at, color='r', linestyle='--')\n",
    "    plt.axhline(buy_at, color='g', linestyle='--')\n",
    "    plt.title(year)\n",
    "    \n",
    "plt.show()"
   ]
  },
  {
   "cell_type": "markdown",
   "metadata": {},
   "source": [
    "# Compute Profit "
   ]
  },
  {
   "cell_type": "code",
   "execution_count": 17,
   "metadata": {
    "collapsed": false,
    "scrolled": true
   },
   "outputs": [
    {
     "name": "stdout",
     "output_type": "stream",
     "text": [
      "We buy at 786.140015. Profit: -786.140015\n",
      "We sell at 1019.27002. Profit: 233.130005\n",
      "Profit made per 786.140015 invested: 233.130005\n",
      "Percentage profit made: 29.6550233485%\n"
     ]
    }
   ],
   "source": [
    "yearOfInterest = 2017\n",
    "buying_price = 0\n",
    "selling_price = 0\n",
    "initial_entry_position = 0\n",
    "position = \"None\"\n",
    "profit = 0\n",
    "\n",
    "average_price = data_per_year[yearOfInterest][\"Price\"].mean()\n",
    "stdev_price = data_per_year[yearOfInterest][\"Price\"].std()\n",
    "buy_at = average_price-1*stdev_price\n",
    "sell_at = average_price+1*stdev_price\n",
    "\n",
    "\n",
    "######################### Plotting stuff #########################\n",
    "data_per_year[yearOfInterest].plot(x='Date', y='Price', style='-')    \n",
    "plt.axhline(average_price, color='k', linestyle='--')\n",
    "plt.axhline(sell_at, color='r', linestyle='--')\n",
    "plt.axhline(buy_at, color='g', linestyle='--')\n",
    "plt.title(yearOfInterest)\n",
    "markerSize = 10\n",
    "##################################################################\n",
    "\n",
    "\n",
    "for row in range(data_per_year[yearOfInterest].shape[0]):\n",
    "    todays_date = row\n",
    "    todays_price = data_per_year[yearOfInterest][\"Price\"][row]\n",
    "    if(position==\"None\"):\n",
    "        if(todays_price<sell_at):\n",
    "            position=\"Buy\"\n",
    "            initial_entry_position = todays_price\n",
    "            buying_price = todays_price\n",
    "            profit=profit-buying_price\n",
    "            print(\"We buy at {0}. Profit: {1}\".format(todays_price,profit))\n",
    "            plt.plot(todays_date, todays_price, marker='o', markersize=markerSize, color=\"green\")\n",
    "        else:\n",
    "            position=\"Sell\"\n",
    "            initial_entry_position = todays_price\n",
    "            selling_price = todays_price\n",
    "            profit=profit+selling_price\n",
    "            print(\"We sell at {0}. Profit: {1}\".format(todays_price,profit))\n",
    "            plt.plot(todays_date, todays_price, marker='o', markersize=markerSize, color=\"red\")\n",
    "    elif(position==\"Buy\"):\n",
    "        if(todays_price>=sell_at):\n",
    "            position=\"Sell\"\n",
    "            selling_price = todays_price\n",
    "            profit=profit+selling_price\n",
    "            print(\"We sell at {0}. Profit: {1}\".format(todays_price,profit))\n",
    "            plt.plot(todays_date, todays_price, marker='o', markersize=markerSize, color=\"red\")\n",
    "    elif(position==\"Sell\"):\n",
    "        if(todays_price<=buy_at):\n",
    "            position=\"Buy\"\n",
    "            buying_price = todays_price\n",
    "            profit=profit-buying_price\n",
    "            print(\"We buy at {0}. Profit: {1}\".format(todays_price,profit))\n",
    "            plt.plot(todays_date, todays_price, marker='o', markersize=markerSize, color=\"green\")\n",
    "\n",
    "if(position==\"Buy\"):\n",
    "    position=\"None\"\n",
    "    profit=profit+todays_price\n",
    "    position=\"None\"\n",
    "    print(\"We sell at {0}. Profit: {1}\".format(todays_price,profit))\n",
    "    plt.plot(todays_date, todays_price, marker='o', markersize=markerSize, color=\"red\")\n",
    "\n",
    "            \n",
    "print(\"Profit made per {0} invested: {1}\".format(initial_entry_position,profit))\n",
    "print(\"Percentage profit made: {0}%\".format((profit*100)/initial_entry_position))\n",
    "\n",
    "plt.show()"
   ]
  },
  {
   "cell_type": "markdown",
   "metadata": {},
   "source": [
    " "
   ]
  },
  {
   "cell_type": "markdown",
   "metadata": {},
   "source": [
    " "
   ]
  },
  {
   "cell_type": "markdown",
   "metadata": {},
   "source": [
    " "
   ]
  },
  {
   "cell_type": "markdown",
   "metadata": {},
   "source": [
    "# Side Commentes "
   ]
  },
  {
   "cell_type": "code",
   "execution_count": 16,
   "metadata": {
    "collapsed": true
   },
   "outputs": [],
   "source": [
    "#Check the graph for all data \n",
    "all_data_of_interest.plot(x='Date', y='Price', style='-')\n",
    "plt.show()"
   ]
  },
  {
   "cell_type": "markdown",
   "metadata": {
    "collapsed": true
   },
   "source": [
    " "
   ]
  },
  {
   "cell_type": "code",
   "execution_count": null,
   "metadata": {
    "collapsed": true
   },
   "outputs": [],
   "source": [
    "with open(file_location) as f:\n",
    "    the_csv = csv.reader(f, delimiter=comma)\n",
    "    for each_line in the_csv:\n",
    "        print(each_line)"
   ]
  }
 ],
 "metadata": {
  "kernelspec": {
   "display_name": "Python 2",
   "language": "python",
   "name": "python2"
  },
  "language_info": {
   "codemirror_mode": {
    "name": "ipython",
    "version": 2
   },
   "file_extension": ".py",
   "mimetype": "text/x-python",
   "name": "python",
   "nbconvert_exporter": "python",
   "pygments_lexer": "ipython2",
   "version": "2.7.13"
  }
 },
 "nbformat": 4,
 "nbformat_minor": 2
}
