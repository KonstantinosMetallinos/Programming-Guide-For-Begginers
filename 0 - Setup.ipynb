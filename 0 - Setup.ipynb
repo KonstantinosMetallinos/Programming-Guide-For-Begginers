{
 "cells": [
  {
   "cell_type": "markdown",
   "metadata": {},
   "source": [
    "# Setup guide"
   ]
  },
  {
   "cell_type": "markdown",
   "metadata": {},
   "source": [
    " "
   ]
  },
  {
   "cell_type": "markdown",
   "metadata": {},
   "source": [
    "# 0) Setting up Jupyter Notebook\n",
    "\n",
    "## Video Install guides\n",
    "These guides are a little in depth but will show you how to install Anaconda and Jupyter which is what we will use in the course\n",
    "   * Mac - https://www.youtube.com/watch?v=jhFyTv9vLi4\n",
    "   * Windows - https://www.youtube.com/watch?v=5mDYijMfSzs\n",
    "\n",
    "\n",
    "##### Credits to Matthew Auburn for the set-up guide.\n",
    "\n",
    "# This is all you need for the teaching session"
   ]
  },
  {
   "cell_type": "markdown",
   "metadata": {},
   "source": [
    " "
   ]
  },
  {
   "cell_type": "markdown",
   "metadata": {},
   "source": [
    " "
   ]
  },
  {
   "cell_type": "markdown",
   "metadata": {},
   "source": [
    " "
   ]
  },
  {
   "cell_type": "markdown",
   "metadata": {},
   "source": [
    "## The Below information should be followed if you do not want to use Ipython Notebook. \n",
    "## For the purpuse of this teaching session please follow the README.md file. "
   ]
  },
  {
   "cell_type": "markdown",
   "metadata": {},
   "source": [
    "## 1) Installing Python:\n",
    "##### https://www.python.org/downloads/\n",
    "    for windows download \"Windows x86 MSI Installer\" \n",
    "        Then Start -> All Prgrams -> Python 3.4\n",
    "    for mac go to Applications -> Python 3.4 "
   ]
  },
  {
   "cell_type": "markdown",
   "metadata": {},
   "source": [
    "## 2) (Optional) Installing an IDE (Pycharm)\n",
    "##### https://www.jetbrains.com/pycharm/download/\n",
    "    GET THE COMMUNITY EDDITION (NOT THE PROFESSIONAL ONE!!!)"
   ]
  },
  {
   "cell_type": "markdown",
   "metadata": {},
   "source": [
    "## 2.1) Pycharm optimisation \n",
    "File -> Preferences \n",
    "     -> Console -> Python Console \n",
    "                    (Make sure Python interpreter is the same \n",
    "                     version as the one you just installed)\n",
    "                -> Project Interpreter (Make Sure Python 3.4 is selected there as well)"
   ]
  },
  {
   "cell_type": "markdown",
   "metadata": {},
   "source": [
    " "
   ]
  }
 ],
 "metadata": {
  "kernelspec": {
   "display_name": "Python 3",
   "language": "python",
   "name": "python3"
  },
  "language_info": {
   "codemirror_mode": {
    "name": "ipython",
    "version": 3
   },
   "file_extension": ".py",
   "mimetype": "text/x-python",
   "name": "python",
   "nbconvert_exporter": "python",
   "pygments_lexer": "ipython3",
   "version": "3.7.1"
  }
 },
 "nbformat": 4,
 "nbformat_minor": 2
}
