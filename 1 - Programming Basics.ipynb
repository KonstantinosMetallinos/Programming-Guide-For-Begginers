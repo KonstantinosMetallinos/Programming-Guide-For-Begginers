{
 "cells": [
  {
   "cell_type": "markdown",
   "metadata": {},
   "source": [
    "# Konstantine's Programing Basics Guide"
   ]
  },
  {
   "cell_type": "markdown",
   "metadata": {},
   "source": [
    " "
   ]
  },
  {
   "cell_type": "markdown",
   "metadata": {},
   "source": [
    "# 0) Imports "
   ]
  },
  {
   "cell_type": "code",
   "execution_count": 1,
   "metadata": {},
   "outputs": [],
   "source": [
    "# If using Python 2 run the below, otherwise you can ignore\n",
    "# from __future__ import division\n",
    "\n",
    "from math import pi"
   ]
  },
  {
   "cell_type": "code",
   "execution_count": 2,
   "metadata": {},
   "outputs": [
    {
     "name": "stdout",
     "output_type": "stream",
     "text": [
      "3.141592653589793\n"
     ]
    }
   ],
   "source": [
    "# We can use imports to get access to other people's code, or for this case, the nubmer pi! \n",
    "print(pi)"
   ]
  },
  {
   "cell_type": "markdown",
   "metadata": {},
   "source": [
    " "
   ]
  },
  {
   "cell_type": "markdown",
   "metadata": {},
   "source": [
    "# 1) Printing to the screen"
   ]
  },
  {
   "cell_type": "markdown",
   "metadata": {},
   "source": [
    "#### When you want to show a message on the screen you need to use the print command"
   ]
  },
  {
   "cell_type": "code",
   "execution_count": 3,
   "metadata": {},
   "outputs": [
    {
     "name": "stdout",
     "output_type": "stream",
     "text": [
      "Hello World\n"
     ]
    }
   ],
   "source": [
    "print(\"Hello World\")"
   ]
  },
  {
   "cell_type": "markdown",
   "metadata": {},
   "source": [
    "#### To print both words and numbers/variables we can do it in multiple ways"
   ]
  },
  {
   "cell_type": "code",
   "execution_count": 4,
   "metadata": {
    "scrolled": true
   },
   "outputs": [
    {
     "name": "stdout",
     "output_type": "stream",
     "text": [
      "This is how I add words and numbers. 100\n",
      "This is how I add words and numbers. 100\n",
      "This is how I add words and numbers. 100\n"
     ]
    }
   ],
   "source": [
    "print(\"This is how I add words and numbers.\", 100)\n",
    "print(\"This is how I add words and numbers. \" + str(100))\n",
    "print(\"This is how I add words and numbers. {0}\".format(100))"
   ]
  },
  {
   "cell_type": "markdown",
   "metadata": {},
   "source": [
    "# 2) Commetns"
   ]
  },
  {
   "cell_type": "code",
   "execution_count": 5,
   "metadata": {},
   "outputs": [
    {
     "name": "stdout",
     "output_type": "stream",
     "text": [
      " \n"
     ]
    }
   ],
   "source": [
    "# Single line comment \n",
    "'''\n",
    "Multiple Line Comment\n",
    "Comments do not effect your code \n",
    "The computer will ignore anything you type in here\n",
    "e.g. trying to pring will be ignored \n",
    "print(\"Hello World\")\n",
    "'''\n",
    "\n",
    "print(\" \")"
   ]
  },
  {
   "cell_type": "markdown",
   "metadata": {},
   "source": [
    "# 3) Variables "
   ]
  },
  {
   "cell_type": "code",
   "execution_count": 5,
   "metadata": {},
   "outputs": [
    {
     "name": "stdout",
     "output_type": "stream",
     "text": [
      " \n"
     ]
    }
   ],
   "source": [
    "'''\n",
    "Variable Names have to start with a Letter\n",
    "Variable names can contain Letters, Numbers and Underscores\n",
    "\n",
    "*(Basic)  TYPES OF VARAIBLES*\n",
    "String:   \"Letters or Characters in quotes\"\n",
    "Intigers: Whole Numbers \n",
    "Double:   Decimal numbers (e.g. 1/3, 0.5, 3.14 etc.)\n",
    "Boolean:  True or False\n",
    "Float:    Same as double but less accurate \n",
    "          (Double: 15 decimal digits vs Float: 7 decimal digits)\n",
    "\n",
    "Lists:    A list of variables \n",
    "Tuples:   Lists that cannot change values \n",
    "Dictionaries (or Maps): \"Key Value pair\" \n",
    "'''\n",
    "\n",
    "print(\" \")"
   ]
  },
  {
   "cell_type": "markdown",
   "metadata": {},
   "source": [
    "#### When you set a value for a variable, the computer will replace that variable with your value"
   ]
  },
  {
   "cell_type": "code",
   "execution_count": 5,
   "metadata": {},
   "outputs": [
    {
     "name": "stdout",
     "output_type": "stream",
     "text": [
      "Konstantine\n"
     ]
    }
   ],
   "source": [
    "name = \"Konstantine\"\n",
    "print(name)"
   ]
  },
  {
   "cell_type": "markdown",
   "metadata": {},
   "source": [
    "##### You can combine multiple Strings using the plus (+) sign"
   ]
  },
  {
   "cell_type": "code",
   "execution_count": 6,
   "metadata": {},
   "outputs": [
    {
     "name": "stdout",
     "output_type": "stream",
     "text": [
      "\"You are unique!Just like \n",
      "everyone else...\"\n"
     ]
    }
   ],
   "source": [
    "quote = \"\\\"You are unique!\"\n",
    "multi_line_quote = '''Just like \n",
    "everyone else...\\\"'''\n",
    "\n",
    "full_quote = quote+multi_line_quote\n",
    "print(full_quote)"
   ]
  },
  {
   "cell_type": "markdown",
   "metadata": {},
   "source": [
    "##### Note that unlike mathematics, in programming you can use x = x + 1 "
   ]
  },
  {
   "cell_type": "code",
   "execution_count": 7,
   "metadata": {},
   "outputs": [
    {
     "name": "stdout",
     "output_type": "stream",
     "text": [
      "5\n",
      "6\n"
     ]
    }
   ],
   "source": [
    "x = 5 \n",
    "print(x)\n",
    "\n",
    "x = x + 1 \n",
    "print(x)"
   ]
  },
  {
   "cell_type": "markdown",
   "metadata": {},
   "source": [
    "#### What is the difference between 1+1 and \"1\"+\"1\"? "
   ]
  },
  {
   "cell_type": "code",
   "execution_count": 8,
   "metadata": {},
   "outputs": [
    {
     "name": "stdout",
     "output_type": "stream",
     "text": [
      "2\n",
      "2\n",
      "\n",
      "11\n",
      "11\n"
     ]
    }
   ],
   "source": [
    "a = 1\n",
    "b = \"1\"\n",
    "print(a+a)\n",
    "print(1+1)\n",
    "print()\n",
    "print(b+b)\n",
    "print(\"1\"+\"1\")"
   ]
  },
  {
   "cell_type": "code",
   "execution_count": 9,
   "metadata": {},
   "outputs": [
    {
     "name": "stdout",
     "output_type": "stream",
     "text": [
      "a is of type:  <class 'int'>\n",
      "b is of type:  <class 'str'>\n"
     ]
    }
   ],
   "source": [
    "#type() will give you the type of variable\n",
    "print(\"a is of type: \", type(a))\n",
    "print(\"b is of type: \", type(b))"
   ]
  },
  {
   "cell_type": "code",
   "execution_count": 10,
   "metadata": {},
   "outputs": [
    {
     "name": "stdout",
     "output_type": "stream",
     "text": [
      "a is of type:  <class 'int'>\n",
      "str(a) is of type:  <class 'str'>\n",
      "b is of type:  <class 'str'>\n",
      "int(b) is of type:  <class 'int'>\n"
     ]
    }
   ],
   "source": [
    "# To change a variable's type we use \"casting\" \n",
    "print(\"a is of type: \", type(a))\n",
    "print(\"str(a) is of type: \", type(str(a)))\n",
    " \n",
    "print(\"b is of type: \", type(b))\n",
    "print(\"int(b) is of type: \", type(int(b)))"
   ]
  },
  {
   "cell_type": "markdown",
   "metadata": {},
   "source": [
    "# 4) Operatiors "
   ]
  },
  {
   "cell_type": "code",
   "execution_count": null,
   "metadata": {
    "collapsed": true
   },
   "outputs": [],
   "source": [
    "#'''\n",
    "+  Addition\n",
    "-  Subtraction \n",
    "*  Multiplication \n",
    "/  Division \n",
    "%  Returns the remainder of the division \n",
    "** Exponential Operator (2^10 = 2**10 = 1024)\n",
    "// Floor Division - Does division and discard the remainder (round down)\n",
    "#'''"
   ]
  },
  {
   "cell_type": "code",
   "execution_count": 11,
   "metadata": {},
   "outputs": [
    {
     "name": "stdout",
     "output_type": "stream",
     "text": [
      "5 + 2 =  7\n",
      "5 - 2 =  3\n",
      "5 * 2 =  10\n",
      "5 / 2 =  2.5\n",
      "5 % 2 =  1\n",
      "5 ** 2 =  25\n",
      "5 // 2 =  2\n"
     ]
    }
   ],
   "source": [
    "print(\"5 + 2 = \",5+2)\n",
    "print(\"5 - 2 = \",5-2)\n",
    "print(\"5 * 2 = \",5*2)\n",
    "print(\"5 / 2 = \",5/2)\n",
    "print(\"5 % 2 = \",5%2)\n",
    "print(\"5 ** 2 = \",5**2)\n",
    "print(\"5 // 2 = \",5//2)"
   ]
  },
  {
   "cell_type": "markdown",
   "metadata": {},
   "source": [
    "### ORDER OF OPERATION MATTERS!!! \n",
    "#### Multiplication (*) and diviion (/) are preformed before addition (+) and subtraction (-) !!! <br>To change the order just add brakets (similar to mathematics)"
   ]
  },
  {
   "cell_type": "code",
   "execution_count": 12,
   "metadata": {},
   "outputs": [
    {
     "name": "stdout",
     "output_type": "stream",
     "text": [
      "1 + 2 - 3 * 4 =  -9\n",
      "(1 + 2 - 3) * 4 =  0\n"
     ]
    }
   ],
   "source": [
    "print(\"1 + 2 - 3 * 4 = \",1+2-3*4)\n",
    "print(\"(1 + 2 - 3) * 4 = \",(1+2-3)*4)"
   ]
  },
  {
   "cell_type": "markdown",
   "metadata": {},
   "source": [
    "# 5) Lists"
   ]
  },
  {
   "cell_type": "markdown",
   "metadata": {},
   "source": [
    "#### Lists contain multiple values, variables or a cimbination of the two"
   ]
  },
  {
   "cell_type": "markdown",
   "metadata": {},
   "source": [
    "#### Lists also come with some useful utilities like the following: "
   ]
  },
  {
   "cell_type": "code",
   "execution_count": 13,
   "metadata": {},
   "outputs": [
    {
     "name": "stdout",
     "output_type": "stream",
     "text": [
      "Our List of numbers is:  [1, 2, 3, 5, 8, 13]\n",
      "Length =  6\n",
      "Max =  13\n",
      "Min =  1\n",
      "Sum =  32\n"
     ]
    }
   ],
   "source": [
    "list_of_numbers = [1,2,3,5,8,13]\n",
    "print(\"Our List of numbers is: \", list_of_numbers)\n",
    "print(\"Length = \",len(list_of_numbers))\n",
    "print(\"Max = \",max(list_of_numbers))\n",
    "print(\"Min = \",min(list_of_numbers))\n",
    "print(\"Sum = \",sum(list_of_numbers))"
   ]
  },
  {
   "cell_type": "markdown",
   "metadata": {},
   "source": [
    "#### We can also sort a list using the .sort() command"
   ]
  },
  {
   "cell_type": "code",
   "execution_count": 14,
   "metadata": {},
   "outputs": [
    {
     "name": "stdout",
     "output_type": "stream",
     "text": [
      "[7, 5, 12, 34, 19, 100, 0]\n",
      "[0, 5, 7, 12, 19, 34, 100]\n"
     ]
    }
   ],
   "source": [
    "random_numbers = [7,5,12,34,19,100,0]\n",
    "\n",
    "print(random_numbers)\n",
    "random_numbers.sort()\n",
    "print(random_numbers)"
   ]
  },
  {
   "cell_type": "markdown",
   "metadata": {},
   "source": [
    " "
   ]
  },
  {
   "cell_type": "markdown",
   "metadata": {},
   "source": [
    "### Lets try a practical hypothetical scenario:  "
   ]
  },
  {
   "cell_type": "markdown",
   "metadata": {},
   "source": [
    "#### I want to create a shopping list. \n",
    "#### Lets first create a list of compnents of making a sanndwitch"
   ]
  },
  {
   "cell_type": "code",
   "execution_count": 15,
   "metadata": {},
   "outputs": [],
   "source": [
    "sandwich_ingredients=[\"Bread\",\"Cheese\",\"Ham\",\"Mayonnaise\"]"
   ]
  },
  {
   "cell_type": "markdown",
   "metadata": {},
   "source": [
    "#### If we want to access a particular item in the list we can do it by using ListsName[PositionOfItem]"
   ]
  },
  {
   "cell_type": "code",
   "execution_count": 16,
   "metadata": {},
   "outputs": [
    {
     "name": "stdout",
     "output_type": "stream",
     "text": [
      "First item for a sandwich is  Bread\n"
     ]
    }
   ],
   "source": [
    "print(\"First item for a sandwich is \", sandwich_ingredients[0])"
   ]
  },
  {
   "cell_type": "markdown",
   "metadata": {},
   "source": [
    "#### Now lets assume I want to try a gluten free diet. This means we need to modify our list to include gluten free bread. \n",
    "#### We can replace items on a lsit by replacing their value. This can by done by ListsName[Position]=NewValue"
   ]
  },
  {
   "cell_type": "code",
   "execution_count": 17,
   "metadata": {},
   "outputs": [
    {
     "name": "stdout",
     "output_type": "stream",
     "text": [
      "First item for a sandwich is  Gluten Free Bread\n"
     ]
    }
   ],
   "source": [
    "sandwich_ingredients[0] = \"Gluten Free Bread\"\n",
    "print(\"First item for a sandwich is \", sandwich_ingredients[0])"
   ]
  },
  {
   "cell_type": "markdown",
   "metadata": {},
   "source": [
    "#### If we want to view specific parts of the list instead of the whole list we can do it by using the below:<br>ListsName[FromWhere:ToWhere+1]\n",
    "#### So to get the 2nd and 3rd element of a list we need from 2 to 4. Recall that computers start counting from 0 so that will be from 1 to 3  "
   ]
  },
  {
   "cell_type": "code",
   "execution_count": 18,
   "metadata": {},
   "outputs": [
    {
     "name": "stdout",
     "output_type": "stream",
     "text": [
      "['Cheese', 'Ham']\n"
     ]
    }
   ],
   "source": [
    "print(sandwich_ingredients[1:3])"
   ]
  },
  {
   "cell_type": "markdown",
   "metadata": {},
   "source": [
    "#### So we have sandwich for snaks, now lets get the components of a maid dish. Lets go for chicken and potatos"
   ]
  },
  {
   "cell_type": "code",
   "execution_count": 19,
   "metadata": {},
   "outputs": [
    {
     "name": "stdout",
     "output_type": "stream",
     "text": [
      "['Potatoes', 'Chicken']\n"
     ]
    }
   ],
   "source": [
    "main_dish_ingredients = [\"Potatoes\", \"Chicken\"]\n",
    "print(main_dish_ingredients)"
   ]
  },
  {
   "cell_type": "markdown",
   "metadata": {},
   "source": [
    "#### Lets now create our shopping list. This will include both the sandwich and the main dish's ingredients "
   ]
  },
  {
   "cell_type": "code",
   "execution_count": 20,
   "metadata": {},
   "outputs": [
    {
     "name": "stdout",
     "output_type": "stream",
     "text": [
      "[['Gluten Free Bread', 'Cheese', 'Ham', 'Mayonnaise'], ['Potatoes', 'Chicken']]\n"
     ]
    }
   ],
   "source": [
    "shopping_list = [sandwich_ingredients, main_dish_ingredients]\n",
    "print(shopping_list)"
   ]
  },
  {
   "cell_type": "code",
   "execution_count": 21,
   "metadata": {},
   "outputs": [
    {
     "name": "stdout",
     "output_type": "stream",
     "text": [
      "Chicken\n"
     ]
    }
   ],
   "source": [
    "# To get the 2nd item from the 2nd list we would do \n",
    "print(shopping_list[1][1])"
   ]
  },
  {
   "cell_type": "markdown",
   "metadata": {},
   "source": [
    "#### Now lets assume we also want a dessert! We can add some ice cream to our shopping list by \"appending\" it at the end"
   ]
  },
  {
   "cell_type": "code",
   "execution_count": 22,
   "metadata": {},
   "outputs": [],
   "source": [
    "# To add items to a list we use .append\n",
    "shopping_list.append(\"Ice Cream\")"
   ]
  },
  {
   "cell_type": "code",
   "execution_count": 23,
   "metadata": {},
   "outputs": [
    {
     "name": "stdout",
     "output_type": "stream",
     "text": [
      "[['Gluten Free Bread', 'Cheese', 'Ham', 'Mayonnaise'], ['Potatoes', 'Chicken'], 'Ice Cream']\n"
     ]
    }
   ],
   "source": [
    "print(shopping_list)"
   ]
  },
  {
   "cell_type": "markdown",
   "metadata": {},
   "source": [
    "#### Lets assume we also want to add some drinks. And we now the drinks are located at the entrance of the shop so it would be better to have them at the top of the list. \n",
    "#### To add an item at a specific position we will use .insert(Position,\"ItemName\")"
   ]
  },
  {
   "cell_type": "code",
   "execution_count": 24,
   "metadata": {},
   "outputs": [],
   "source": [
    "# To add an item on a specific position on a list use insert(location, item)\n",
    "shopping_list.insert(0, \"1 x Diet Coke\")"
   ]
  },
  {
   "cell_type": "markdown",
   "metadata": {},
   "source": [
    "#### Lets assume we change our mind about the item and we want more drinks, lets do the same."
   ]
  },
  {
   "cell_type": "code",
   "execution_count": 25,
   "metadata": {},
   "outputs": [
    {
     "name": "stdout",
     "output_type": "stream",
     "text": [
      "['2 x Diet Coke', '1 x Diet Coke', ['Gluten Free Bread', 'Cheese', 'Ham', 'Mayonnaise'], ['Potatoes', 'Chicken'], 'Ice Cream']\n"
     ]
    }
   ],
   "source": [
    "shopping_list.insert(0, \"2 x Diet Coke\")\n",
    "print(shopping_list)"
   ]
  },
  {
   "cell_type": "markdown",
   "metadata": {},
   "source": [
    "#### Whoops... looks like we now have messed up. What could have we done better to avoid this sitution? \n",
    "#### Oh well, now we have to remore the \"1 x Diet Coke\". To remove an element just use \"remove(itemName)\""
   ]
  },
  {
   "cell_type": "code",
   "execution_count": 26,
   "metadata": {},
   "outputs": [],
   "source": [
    "shopping_list.remove(\"1 x Diet Coke\")"
   ]
  },
  {
   "cell_type": "code",
   "execution_count": 27,
   "metadata": {},
   "outputs": [
    {
     "name": "stdout",
     "output_type": "stream",
     "text": [
      "['2 x Diet Coke', ['Gluten Free Bread', 'Cheese', 'Ham', 'Mayonnaise'], ['Potatoes', 'Chicken'], 'Ice Cream']\n"
     ]
    }
   ],
   "source": [
    "print(shopping_list)"
   ]
  },
  {
   "cell_type": "markdown",
   "metadata": {},
   "source": [
    " "
   ]
  },
  {
   "cell_type": "markdown",
   "metadata": {},
   "source": [
    "# 6) Dictionary (or Map)"
   ]
  },
  {
   "cell_type": "code",
   "execution_count": 28,
   "metadata": {},
   "outputs": [
    {
     "name": "stdout",
     "output_type": "stream",
     "text": [
      "{'Superman': 'Clark Kent', 'Batman': 'Batman', 'Spiderman': 'Peter Parker', 'Iron Man': 'Tony Stark'}\n"
     ]
    }
   ],
   "source": [
    "super_hero_identity = {\n",
    "    \"Superman\" : \"Clark Kent\",\n",
    "    \"Batman\" : \"Batman\",\n",
    "    \"Spiderman\" : \"Peter Parker\",\n",
    "    \"Iron Man\" : \"Tony Stark\"\n",
    "}\n",
    "print(super_hero_identity)"
   ]
  },
  {
   "cell_type": "code",
   "execution_count": 29,
   "metadata": {},
   "outputs": [
    {
     "name": "stdout",
     "output_type": "stream",
     "text": [
      "Clark Kent\n",
      "Clark Kent\n"
     ]
    }
   ],
   "source": [
    "print(super_hero_identity[\"Superman\"])\n",
    "print(super_hero_identity.get(\"Superman\"))"
   ]
  },
  {
   "cell_type": "code",
   "execution_count": 30,
   "metadata": {},
   "outputs": [
    {
     "name": "stdout",
     "output_type": "stream",
     "text": [
      "{'Superman': 'Clark Kent', 'Batman': 'Bruce Wayne', 'Spiderman': 'Peter Parker', 'Iron Man': 'Tony Stark'}\n"
     ]
    }
   ],
   "source": [
    "super_hero_identity[\"Batman\"] = \"Bruce Wayne\"\n",
    "print(super_hero_identity)"
   ]
  },
  {
   "cell_type": "code",
   "execution_count": 31,
   "metadata": {},
   "outputs": [
    {
     "name": "stdout",
     "output_type": "stream",
     "text": [
      "dict_keys(['Superman', 'Batman', 'Spiderman', 'Iron Man'])\n"
     ]
    }
   ],
   "source": [
    "print(super_hero_identity.keys())"
   ]
  },
  {
   "cell_type": "code",
   "execution_count": 32,
   "metadata": {},
   "outputs": [
    {
     "name": "stdout",
     "output_type": "stream",
     "text": [
      "dict_values(['Clark Kent', 'Bruce Wayne', 'Peter Parker', 'Tony Stark'])\n"
     ]
    }
   ],
   "source": [
    "print(super_hero_identity.values())"
   ]
  },
  {
   "cell_type": "markdown",
   "metadata": {},
   "source": [
    " "
   ]
  },
  {
   "cell_type": "markdown",
   "metadata": {},
   "source": [
    "# 7) Conditionals (If Statement)"
   ]
  },
  {
   "cell_type": "code",
   "execution_count": null,
   "metadata": {
    "collapsed": true
   },
   "outputs": [],
   "source": [
    "if \n",
    "elif \n",
    "else \n",
    "== \n",
    "!= \n",
    "> \n",
    "< \n",
    ">=\n",
    "<="
   ]
  },
  {
   "cell_type": "code",
   "execution_count": 33,
   "metadata": {},
   "outputs": [],
   "source": [
    "age = 19"
   ]
  },
  {
   "cell_type": "code",
   "execution_count": 34,
   "metadata": {},
   "outputs": [
    {
     "name": "stdout",
     "output_type": "stream",
     "text": [
      "You are allowed to drink in the UK, but not in the USA.\n"
     ]
    }
   ],
   "source": [
    "if(age>=21):\n",
    "    print(\"You are allowed to drink in the UK and the USA!\")\n",
    "elif(age>=18):\n",
    "    print(\"You are allowed to drink in the UK, but not in the USA.\")\n",
    "else:\n",
    "    print(\"You are too young to drink\")"
   ]
  },
  {
   "cell_type": "markdown",
   "metadata": {},
   "source": [
    " "
   ]
  },
  {
   "cell_type": "markdown",
   "metadata": {},
   "source": [
    "# 8) Logical Operatiors "
   ]
  },
  {
   "cell_type": "code",
   "execution_count": null,
   "metadata": {
    "collapsed": true
   },
   "outputs": [],
   "source": [
    "and \n",
    "or \n",
    "not"
   ]
  },
  {
   "cell_type": "code",
   "execution_count": 35,
   "metadata": {},
   "outputs": [
    {
     "name": "stdout",
     "output_type": "stream",
     "text": [
      "You are too young to buy alcohol.\n"
     ]
    }
   ],
   "source": [
    "age = 17\n",
    "account_balance = 1000\n",
    "expensive_alcohol_price = 1000\n",
    "if( (age>18) and (account_balance>=expensive_alcohol_price)):\n",
    "    print(\"You can buy the alcohol.\")\n",
    "elif((age>18) and (not account_balance>=expensive_alcohol_price)):\n",
    "    print(\"Not enough money.\")\n",
    "elif((not age>18) and (account_balance>=expensive_alcohol_price)):\n",
    "    print(\"You are too young to buy alcohol.\")"
   ]
  },
  {
   "cell_type": "markdown",
   "metadata": {},
   "source": [
    " "
   ]
  },
  {
   "cell_type": "markdown",
   "metadata": {},
   "source": [
    "# 9) Looping (for and while)"
   ]
  },
  {
   "cell_type": "code",
   "execution_count": null,
   "metadata": {
    "collapsed": true
   },
   "outputs": [],
   "source": [
    "for   when you want to loop a certain number of times (loop 5 times)\n",
    "while when you have no idea how many times you are going to loop (loop until x happens)"
   ]
  },
  {
   "cell_type": "code",
   "execution_count": 36,
   "metadata": {
    "scrolled": false
   },
   "outputs": [
    {
     "name": "stdout",
     "output_type": "stream",
     "text": [
      "0\n",
      "1\n",
      "2\n",
      "3\n",
      "4\n",
      "5\n",
      "6\n",
      "7\n",
      "8\n",
      "9\n"
     ]
    }
   ],
   "source": [
    "for x in range(0,10):\n",
    "    print(x)\n",
    "\n",
    "#Question, how would I print 1 to 10? "
   ]
  },
  {
   "cell_type": "code",
   "execution_count": 37,
   "metadata": {},
   "outputs": [
    {
     "name": "stdout",
     "output_type": "stream",
     "text": [
      "['Gluten Free Bread', 'Cheese', 'Ham', 'Mayonnaise']\n"
     ]
    }
   ],
   "source": [
    "print(sandwich_ingredients)"
   ]
  },
  {
   "cell_type": "code",
   "execution_count": 38,
   "metadata": {},
   "outputs": [
    {
     "name": "stdout",
     "output_type": "stream",
     "text": [
      "Gluten Free Bread\n",
      "Cheese\n",
      "Ham\n",
      "Mayonnaise\n"
     ]
    }
   ],
   "source": [
    "for x in sandwich_ingredients: \n",
    "    print(x)"
   ]
  },
  {
   "cell_type": "code",
   "execution_count": 39,
   "metadata": {},
   "outputs": [
    {
     "name": "stdout",
     "output_type": "stream",
     "text": [
      "1\n",
      "2\n",
      "3\n",
      "10\n",
      "20\n",
      "30\n",
      "100\n",
      "200\n",
      "300\n"
     ]
    }
   ],
   "source": [
    "# ADVANCED\n",
    "list_of_numbers = [[1,2,3],[10,20,30],[100,200,300]]\n",
    "\n",
    "for x in range(0,3):\n",
    "    for y in range(0,3):\n",
    "        print(list_of_numbers[x][y])"
   ]
  },
  {
   "cell_type": "markdown",
   "metadata": {},
   "source": [
    " "
   ]
  },
  {
   "cell_type": "code",
   "execution_count": 40,
   "metadata": {},
   "outputs": [],
   "source": [
    "import random "
   ]
  },
  {
   "cell_type": "code",
   "execution_count": 41,
   "metadata": {},
   "outputs": [
    {
     "name": "stdout",
     "output_type": "stream",
     "text": [
      "20\n"
     ]
    }
   ],
   "source": [
    "# Create a random number \n",
    "random_number = random.randrange(1,101)\n",
    "\n",
    "print(random_number)"
   ]
  },
  {
   "cell_type": "code",
   "execution_count": 42,
   "metadata": {
    "scrolled": true
   },
   "outputs": [
    {
     "name": "stdout",
     "output_type": "stream",
     "text": [
      "55  is larger then 10, selecting a different number\n",
      "68  is larger then 10, selecting a different number\n",
      "94  is larger then 10, selecting a different number\n",
      "70  is larger then 10, selecting a different number\n",
      "18  is larger then 10, selecting a different number\n",
      "85  is larger then 10, selecting a different number\n",
      "44  is larger then 10, selecting a different number\n",
      "2  is no longer larger then 10\n"
     ]
    }
   ],
   "source": [
    "random_number = random.randrange(1,101)\n",
    "while(random_number >= 10):\n",
    "    print(random_number, \" is larger then 10, selecting a different number\")\n",
    "    random_number = random.randrange(1,101)\n",
    "\n",
    "print(random_number, \" is no longer larger then 10\")\n",
    "    "
   ]
  },
  {
   "cell_type": "markdown",
   "metadata": {},
   "source": [
    "### Using a while loop as a for loop"
   ]
  },
  {
   "cell_type": "code",
   "execution_count": 43,
   "metadata": {},
   "outputs": [
    {
     "name": "stdout",
     "output_type": "stream",
     "text": [
      "0\n",
      "1\n",
      "2\n",
      "3\n"
     ]
    }
   ],
   "source": [
    "for x in range (0,4):\n",
    "    print(x)"
   ]
  },
  {
   "cell_type": "code",
   "execution_count": 44,
   "metadata": {},
   "outputs": [
    {
     "name": "stdout",
     "output_type": "stream",
     "text": [
      "0\n",
      "1\n",
      "2\n",
      "3\n"
     ]
    }
   ],
   "source": [
    "i = 0 \n",
    "while(i<4):\n",
    "    print(i)\n",
    "    i = i + 1 "
   ]
  },
  {
   "cell_type": "markdown",
   "metadata": {},
   "source": [
    "#### Potentially talk about \"break\" and \"continue\""
   ]
  },
  {
   "cell_type": "markdown",
   "metadata": {},
   "source": [
    " "
   ]
  },
  {
   "cell_type": "markdown",
   "metadata": {},
   "source": [
    "# 10) Taking User Input (For Fun)"
   ]
  },
  {
   "cell_type": "code",
   "execution_count": 45,
   "metadata": {},
   "outputs": [
    {
     "name": "stdout",
     "output_type": "stream",
     "text": [
      "Hello I am Konstantine! What is your name?  Mr. Potato\n",
      "Hello Mr. Potato\n"
     ]
    }
   ],
   "source": [
    "userName = input(\"Hello I am Konstantine! What is your name?  \")\n",
    "print(\"Hello \" + userName)"
   ]
  },
  {
   "cell_type": "markdown",
   "metadata": {},
   "source": [
    " "
   ]
  }
 ],
 "metadata": {
  "kernelspec": {
   "display_name": "Python 3",
   "language": "python",
   "name": "python3"
  },
  "language_info": {
   "codemirror_mode": {
    "name": "ipython",
    "version": 3
   },
   "file_extension": ".py",
   "mimetype": "text/x-python",
   "name": "python",
   "nbconvert_exporter": "python",
   "pygments_lexer": "ipython3",
   "version": "3.7.1"
  }
 },
 "nbformat": 4,
 "nbformat_minor": 2
}
